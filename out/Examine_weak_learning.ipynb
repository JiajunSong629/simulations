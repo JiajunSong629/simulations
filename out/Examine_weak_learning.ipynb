{
 "cells": [
  {
   "cell_type": "code",
   "execution_count": 1,
   "metadata": {},
   "outputs": [
    {
     "name": "stdout",
     "output_type": "stream",
     "text": [
      "2.1.0+cu121\n"
     ]
    }
   ],
   "source": [
    "import json\n",
    "import matplotlib.pyplot as plt\n",
    "import numpy as np\n",
    "import sys\n",
    "import torch\n",
    "\n",
    "sys.path.append(\"..\")\n",
    "\n",
    "from model import TFModel\n",
    "from main import Config"
   ]
  },
  {
   "cell_type": "code",
   "execution_count": 2,
   "metadata": {},
   "outputs": [
    {
     "data": {
      "text/plain": [
       "TFModel(\n",
       "  (embed): Embedding(\n",
       "    (embed): Embedding(64, 64)\n",
       "  )\n",
       "  (h): ModuleList(\n",
       "    (0): TFBlock(\n",
       "      (mha): MultiHeadAttention(\n",
       "        (W_q): Linear(in_features=64, out_features=64, bias=True)\n",
       "        (W_k): Linear(in_features=64, out_features=64, bias=True)\n",
       "        (W_v): Linear(in_features=64, out_features=64, bias=True)\n",
       "        (W_o): Linear(in_features=64, out_features=64, bias=True)\n",
       "      )\n",
       "      (ln_1): LayerNorm((64,), eps=1e-05, elementwise_affine=True)\n",
       "      (ln_2): LayerNorm((64,), eps=1e-05, elementwise_affine=True)\n",
       "      (dropout1): Dropout(p=0.1, inplace=False)\n",
       "      (dropout2): Dropout(p=0.1, inplace=False)\n",
       "    )\n",
       "  )\n",
       "  (ln_f): LayerNorm((64,), eps=1e-05, elementwise_affine=True)\n",
       "  (fc): Linear(in_features=64, out_features=64, bias=True)\n",
       ")"
      ]
     },
     "execution_count": 2,
     "metadata": {},
     "output_type": "execute_result"
    }
   ],
   "source": [
    "# one-layer\n",
    "pt_one_layer = \"1_layer_64_vocab/ckpt.pt\"\n",
    "cf_one_layer = \"1_layer_64_vocab/config.json\"\n",
    "\n",
    "config = Config(**json.load(open(cf_one_layer, \"r\")))\n",
    "model = TFModel(config)\n",
    "model.load_state_dict(torch.load(pt_one_layer))\n",
    "model.to(config.device)"
   ]
  },
  {
   "cell_type": "markdown",
   "metadata": {},
   "source": [
    "We observe that the ID error decreases and OOD error stays high. Our hypothesis is that model learns the\n",
    "distribution of tokens, which is based on power law. How to achieve this? The first component is a close-to-identity\n",
    "attention pattern. The second component is on the MLP parameters."
   ]
  },
  {
   "cell_type": "code",
   "execution_count": 3,
   "metadata": {},
   "outputs": [
    {
     "data": {
      "text/plain": [
       "Counter({0: 315671,\n",
       "         5: 354,\n",
       "         7: 280,\n",
       "         6: 257,\n",
       "         9: 232,\n",
       "         14: 173,\n",
       "         10: 156,\n",
       "         19: 151,\n",
       "         12: 146,\n",
       "         48: 132,\n",
       "         55: 125,\n",
       "         17: 122,\n",
       "         13: 114,\n",
       "         15: 110,\n",
       "         47: 109,\n",
       "         18: 108,\n",
       "         21: 100,\n",
       "         24: 100,\n",
       "         16: 96,\n",
       "         63: 95,\n",
       "         23: 94,\n",
       "         58: 85,\n",
       "         29: 81,\n",
       "         32: 80,\n",
       "         46: 80,\n",
       "         28: 73,\n",
       "         30: 73,\n",
       "         27: 73,\n",
       "         39: 72,\n",
       "         50: 72,\n",
       "         45: 71,\n",
       "         51: 58,\n",
       "         61: 50,\n",
       "         44: 48,\n",
       "         42: 39})"
      ]
     },
     "execution_count": 3,
     "metadata": {},
     "output_type": "execute_result"
    }
   ],
   "source": [
    "test, test_lens, test_starts = torch.load(\"1_layer_64_vocab/test.pth\")\n",
    "from collections import Counter\n",
    "\n",
    "Counter(torch.argmax(model(test), dim=-1)[5:, :].flatten().numpy(force=True))"
   ]
  },
  {
   "cell_type": "code",
   "execution_count": 14,
   "metadata": {},
   "outputs": [
    {
     "data": {
      "text/plain": [
       "[<matplotlib.lines.Line2D at 0x703015034810>]"
      ]
     },
     "execution_count": 14,
     "metadata": {},
     "output_type": "execute_result"
    },
    {
     "data": {
      "image/png": "[encoded data removed]",
      "text/plain": [
       "<Figure size 640x480 with 1 Axes>"
      ]
     },
     "metadata": {},
     "output_type": "display_data"
    }
   ],
   "source": [
    "import torch.nn.functional as F\n",
    "\n",
    "p1 = F.softmax(model(test), dim=-1).mean(0).mean(0).numpy(force=True)\n",
    "p2 = np.array([1 / (i + 2.7) for i in range(1, config.vocab_size + 1)])\n",
    "plt.plot(p1 / np.sum(p1))\n",
    "plt.plot(p2 / np.sum(p2))"
   ]
  }
 ],
 "metadata": {
  "kernelspec": {
   "display_name": ".venv",
   "language": "python",
   "name": "python3"
  },
  "language_info": {
   "codemirror_mode": {
    "name": "ipython",
    "version": 3
   },
   "file_extension": ".py",
   "mimetype": "text/x-python",
   "name": "python",
   "nbconvert_exporter": "python",
   "pygments_lexer": "ipython3",
   "version": "3.11.5"
  }
 },
 "nbformat": 4,
 "nbformat_minor": 2
}
